{
  "cells": [
    {
      "cell_type": "markdown",
      "source": [
        "###Python Data Structures\n",
        "#1. What are data structures, and why are they important?\n",
        "-Data structures are ways of organising and storing data. It is important as this way it can be easily accessed and manupulated efficiently.\n",
        "#2. Expalin the difference between mutable and immutable data types with examples.\n",
        "-Mutable data types can be changed later e.g data\n",
        "inside a list are mutable and can be changed later\n",
        "however immutable data types cannot be changed/updated later\n",
        "e.g data inside tuples cannot be changed later.\n",
        "#3.What are the main differences between lists and tuples in Python?\n",
        "-The main differences between lists and tuples are as follows:\n",
        "-a)lists are mutable and indexation to change an element is possible however tuples are immutable and indexation cannot be used to change an element.\n",
        "-b)lists are defined with [] however tuples are defined with ()\n",
        "#4.Describe how dictionaries store data.\n",
        "-Dictionaries store data in the form of key value pairs\n",
        "\n",
        "#5.Why might you use a set instead of a list in Python?\n",
        "-Sets key feature is its capability to manage duplicate values so if required to manageduplicate values I will\n",
        "use set instead of list\n",
        "\n",
        "#6.What is a string in Python, and how is it different from a list?\n",
        "\n",
        "-String is a texual data type or a sequence of character however list is a hetrogenous data structure capable of storing multiple data types\n",
        "#7.How do tuples ensure data integrity in Python\n",
        "\n",
        "-As elements inside tuples cannot be manupulated later therefore if any data should not be changed later and should be permanent than it should be defined as tuples helping in data integrity in Python.\n",
        "\n",
        "#8. What is a hash table, and how does it relate to dictionaries in Python\n",
        "\n",
        "-A Hash table in Python is a data structure where data is stored with a unique index value.\n",
        "\n",
        "Dictionaries are also defined as key value pair where the key should be unique and duplication is not allowed. If a duplicate value is provided then the last value provided for the key will be updated.\n",
        "\n",
        "#9. Can lists contain different data types in Python?\n",
        "-Yes lists data structures can contain different\n",
        "data types which are mutable\n",
        "#10.Expalin why strings are immutable in Python.\n",
        "-Strings are immutable as indexation cannot be used to access and update a single character in a sequence of character in a string\n",
        "#11.What advantages do dictionaries offer over lists for certain tasks?\n",
        "-Dictionaries offer the opportunity to customise the key value which can help in certain scanarios where key can be associated to the main category with all the resulting value\n",
        "associated to the main category/key value.\n",
        "#12.Describe a scenario where using a tuple would be preferable over a list.\n",
        "-Using a tuple would be more preferable while defining staff IDs of employees of an organisation as it does not require to be changed later\n",
        "#13.How do sets handle duplicate values in Python?\n",
        "-Sets will automatically remove all the duplicate values provided at the time of defining a set\n",
        "#14.How does the \"in\" keyword work differently for list and dictionaries?\n",
        "-The \"in\" keyword in list iterates through the values to look for the match however in dictionaries it iterates\n",
        "through the keys\n",
        "#15. Can you modify the elements of a tuple? Explain why or why not.\n",
        "-No you cannot modify the elements of a tuple as it is the key feature of tuples to ensure data is stored permanently\n",
        "which does not need to be modified later\n",
        "#16.What is a nested dictionary,and give an example of its use case?\n",
        "-A nested dictionary is a dictionary inside another dictionary where for one dictionary the value is another dictionary. A used case for such nested dictionary is a employee database in an organisation where the employee ID is the primary key and then the value of it is another dictionary with the name and other important information as the key and the respective details as the value.\n",
        "#17. Describe the time complexity of accessing elements in a dictionary.\n",
        "-The time to retrieve an element during a search is constant and does not depend on the size of the dictionary\n",
        "#18.In what situations are lists preferred over dictionaries?\n",
        "-Dictionaries are key value pairs so if you dont have a key and just want to store values without any customized keys than List is a better option\n",
        "#19.Why are dictionaries considered unordered,and how does that affect data retrieval?\n",
        "-Dictionaries are not indexed and therefore indexation to iterate through the values does not work which is why dictionaries are considered unordered. Indexation cannot be used to retrieve data values instead keys are searched to retrieve the data.\n",
        "#20.Explain the difference between a list and a dictionary in terms of data retrieval.\n",
        "-Data in list is retrieved through indexation however data in dictionary is retrieved by searching for the keys as there is no indexation in dictionaries."
      ],
      "metadata": {
        "id": "ayyQDvBkxizp"
      }
    },
    {
      "cell_type": "code",
      "source": [
        "#1.Write a code to create a string with your name and print it.\n",
        "demo_name=\"Rishabh Minda\"\n",
        "print(demo_name)"
      ],
      "metadata": {
        "id": "xPa6Uw2I0Q_J",
        "outputId": "318026cb-8fec-4d2a-ab9a-18f211bc10b2",
        "colab": {
          "base_uri": "https://localhost:8080/"
        }
      },
      "execution_count": 43,
      "outputs": [
        {
          "output_type": "stream",
          "name": "stdout",
          "text": [
            "Rishabh Minda\n"
          ]
        }
      ]
    },
    {
      "cell_type": "code",
      "source": [
        "#2. Write a code to find the length of the string \"Hello World\".\n",
        "len(\"Hello World\")"
      ],
      "metadata": {
        "id": "7-1yFTg50a3j",
        "outputId": "f23badf8-33b8-4d36-97d8-41e8248ca689",
        "colab": {
          "base_uri": "https://localhost:8080/"
        }
      },
      "execution_count": 44,
      "outputs": [
        {
          "output_type": "execute_result",
          "data": {
            "text/plain": [
              "11"
            ]
          },
          "metadata": {},
          "execution_count": 44
        }
      ]
    },
    {
      "cell_type": "code",
      "source": [
        "#3.Write a code to slice the first 3 characters from the string \"Python Programming\"\n",
        "demo_slice=\"Python Programming\"\n",
        "print(demo_slice[0:3])"
      ],
      "metadata": {
        "id": "LigFcB-20tPq",
        "outputId": "dc0bef1e-7963-44ff-aef0-74b0265b24eb",
        "colab": {
          "base_uri": "https://localhost:8080/"
        }
      },
      "execution_count": 45,
      "outputs": [
        {
          "output_type": "stream",
          "name": "stdout",
          "text": [
            "Pyt\n"
          ]
        }
      ]
    },
    {
      "cell_type": "code",
      "source": [
        "#4.Write a code to convert the string \"hello\" to uppercase.\n",
        "demo_upper=\"hello\"\n",
        "print(demo_upper.upper())"
      ],
      "metadata": {
        "id": "zkZBYmb70wkJ",
        "outputId": "457b6d8a-a506-4cde-9dfc-7c1e9f96deba",
        "colab": {
          "base_uri": "https://localhost:8080/"
        }
      },
      "execution_count": 46,
      "outputs": [
        {
          "output_type": "stream",
          "name": "stdout",
          "text": [
            "HELLO\n"
          ]
        }
      ]
    },
    {
      "cell_type": "code",
      "source": [
        "#5. Write a code to replace the word \"apple\" with \"orange\" in the string \"I like apple\"\n",
        "demo_text = \"I like apple\"\n",
        "demo_replace = demo_text.replace(\"apple\",\"orange\")\n",
        "print(demo_replace)"
      ],
      "metadata": {
        "id": "rkvJnayJ01mR",
        "outputId": "372399f4-1b8b-4de0-d90d-82727223145c",
        "colab": {
          "base_uri": "https://localhost:8080/"
        }
      },
      "execution_count": 48,
      "outputs": [
        {
          "output_type": "stream",
          "name": "stdout",
          "text": [
            "I like orange\n"
          ]
        }
      ]
    },
    {
      "cell_type": "code",
      "source": [
        "#6. Write a code to create a list with numbers 1 to 5 and print it.\n",
        "demo_list=[1,2,3,4,5]\n",
        "print(demo_list)"
      ],
      "metadata": {
        "id": "Sy1UyHZ-089y",
        "outputId": "02a81f32-d2f6-4fc4-cd25-b893e810f37e",
        "colab": {
          "base_uri": "https://localhost:8080/"
        }
      },
      "execution_count": 49,
      "outputs": [
        {
          "output_type": "stream",
          "name": "stdout",
          "text": [
            "[1, 2, 3, 4, 5]\n"
          ]
        }
      ]
    },
    {
      "cell_type": "code",
      "source": [
        "#7.Write a code to append the number 10 to the list[1,2,3,4]\n",
        "demo_list=[1,2,3,4]\n",
        "demo_list.append(10)\n",
        "print(demo_list)"
      ],
      "metadata": {
        "id": "OlolbURx0-v5",
        "outputId": "2278a632-b79f-4dee-b0d9-da62690ef1dc",
        "colab": {
          "base_uri": "https://localhost:8080/"
        }
      },
      "execution_count": 50,
      "outputs": [
        {
          "output_type": "stream",
          "name": "stdout",
          "text": [
            "[1, 2, 3, 4, 10]\n"
          ]
        }
      ]
    },
    {
      "cell_type": "code",
      "source": [
        "#8.Write a code to remove the number 3 from the list[1,2,3,4,5]\n",
        "demo_list=[1,2,3,4,5]\n",
        "demo_list.remove(3)\n",
        "print(demo_list)"
      ],
      "metadata": {
        "id": "frH0nirA1FlH",
        "outputId": "35398830-48b7-4fd2-93db-1b26fcee9a8d",
        "colab": {
          "base_uri": "https://localhost:8080/"
        }
      },
      "execution_count": 51,
      "outputs": [
        {
          "output_type": "stream",
          "name": "stdout",
          "text": [
            "[1, 2, 4, 5]\n"
          ]
        }
      ]
    },
    {
      "cell_type": "code",
      "source": [
        "#9.Write a code to access the second element in the list['a','b','c','d']\n",
        "demo_list=['a','b','c','d']\n",
        "print(demo_list[1])"
      ],
      "metadata": {
        "id": "7gmTwmAo1PRn",
        "outputId": "b340644a-8689-4185-d08c-dc0cd06a0029",
        "colab": {
          "base_uri": "https://localhost:8080/"
        }
      },
      "execution_count": 52,
      "outputs": [
        {
          "output_type": "stream",
          "name": "stdout",
          "text": [
            "b\n"
          ]
        }
      ]
    },
    {
      "cell_type": "code",
      "source": [
        "#10.Write a code to reverse the list[10,20,30,40,50]\n",
        "demo_reverse=[10,20,30,40,50]\n",
        "print(demo_reverse[::-1])"
      ],
      "metadata": {
        "id": "jeRC5dez1S4D",
        "outputId": "c4c482dd-388f-4ffb-901d-21d0de3c28f6",
        "colab": {
          "base_uri": "https://localhost:8080/"
        }
      },
      "execution_count": 53,
      "outputs": [
        {
          "output_type": "stream",
          "name": "stdout",
          "text": [
            "[50, 40, 30, 20, 10]\n"
          ]
        }
      ]
    },
    {
      "cell_type": "code",
      "source": [
        "#11.Write a code to create a tuple with the elements 10,20,30 and print it.\n",
        "demo_tuple=(10,20,30)\n",
        "print(demo_tuple)"
      ],
      "metadata": {
        "id": "8WNNWByx1U9s",
        "outputId": "126d076f-c51e-4eb7-8857-f4b22219837f",
        "colab": {
          "base_uri": "https://localhost:8080/"
        }
      },
      "execution_count": 54,
      "outputs": [
        {
          "output_type": "stream",
          "name": "stdout",
          "text": [
            "(10, 20, 30)\n"
          ]
        }
      ]
    },
    {
      "cell_type": "code",
      "source": [
        "#12.Write a code to access the first element of the tuple('apple','banana','cherry')\n",
        "demo_tuple=('apple','banana','cherry')\n",
        "print(demo_tuple[0])"
      ],
      "metadata": {
        "id": "SbKh3ByK1XJi",
        "outputId": "fd806485-0972-425a-ebf0-0aa891e9699f",
        "colab": {
          "base_uri": "https://localhost:8080/"
        }
      },
      "execution_count": 55,
      "outputs": [
        {
          "output_type": "stream",
          "name": "stdout",
          "text": [
            "apple\n"
          ]
        }
      ]
    },
    {
      "cell_type": "code",
      "source": [
        "#13.Write a codde to count how many times the number 2 appears in the tuple(1,2,3,2,4,2)\n",
        "demo_tuple=(1,2,3,2,4,2)\n",
        "print(demo_tuple.count(2))"
      ],
      "metadata": {
        "id": "Y8nDvVWb1ZTR",
        "outputId": "a5bc2ae2-b23c-4451-85fd-948ff2d6ec63",
        "colab": {
          "base_uri": "https://localhost:8080/"
        }
      },
      "execution_count": 56,
      "outputs": [
        {
          "output_type": "stream",
          "name": "stdout",
          "text": [
            "3\n"
          ]
        }
      ]
    },
    {
      "cell_type": "code",
      "source": [
        "#14.Write a code to find the index of the element 'cat' in the tuple('dog','cat,'rabbit')\n",
        "demo_tuple=('dog','cat','rabbit')\n",
        "print(demo_tuple.index('cat'))"
      ],
      "metadata": {
        "id": "kdN-E6o11b4M",
        "outputId": "ed1b4038-1b69-4f3d-bf11-cbe8fd420e16",
        "colab": {
          "base_uri": "https://localhost:8080/"
        }
      },
      "execution_count": 57,
      "outputs": [
        {
          "output_type": "stream",
          "name": "stdout",
          "text": [
            "1\n"
          ]
        }
      ]
    },
    {
      "cell_type": "code",
      "source": [
        "#15.Write a code to check if the element 'banana' is in the tuple('apple','orange','banana')\n",
        "demo_tuple=('apple','orange','banana')\n",
        "'banana' in demo_tuple"
      ],
      "metadata": {
        "id": "lqnXQeSg1d67",
        "outputId": "cbb776dc-e786-47b9-e9c8-3ee6fec73240",
        "colab": {
          "base_uri": "https://localhost:8080/"
        }
      },
      "execution_count": 59,
      "outputs": [
        {
          "output_type": "execute_result",
          "data": {
            "text/plain": [
              "True"
            ]
          },
          "metadata": {},
          "execution_count": 59
        }
      ]
    },
    {
      "cell_type": "code",
      "source": [
        "#16.Write a code to create a set with the elements 1,2,3,4,5 and print it\n",
        "demo_set={1,2,3,4,5}\n",
        "print(demo_set)"
      ],
      "metadata": {
        "id": "O_yiIllP1ix0",
        "outputId": "48f20415-5f5d-43c6-9b81-d4c9ce494c10",
        "colab": {
          "base_uri": "https://localhost:8080/"
        }
      },
      "execution_count": 60,
      "outputs": [
        {
          "output_type": "stream",
          "name": "stdout",
          "text": [
            "{1, 2, 3, 4, 5}\n"
          ]
        }
      ]
    },
    {
      "cell_type": "code",
      "source": [
        "#17.Write a code to add the element 6 to the set{1,2,3,4}\n",
        "demo_set={1,2,3,4}\n",
        "demo_set.add(6)\n",
        "print(demo_set)"
      ],
      "metadata": {
        "id": "hLyCZkS51mOa",
        "outputId": "216dbe1e-f199-4cba-b6fe-1d5a6b2c3ca6",
        "colab": {
          "base_uri": "https://localhost:8080/"
        }
      },
      "execution_count": 61,
      "outputs": [
        {
          "output_type": "stream",
          "name": "stdout",
          "text": [
            "{1, 2, 3, 4, 6}\n"
          ]
        }
      ]
    },
    {
      "cell_type": "code",
      "source": [
        "#18.Write a code to create a tuple with the elements 10,20,30 and print it.\n",
        "demo_tuple=(10,20,30)\n",
        "print(demo_tuple)"
      ],
      "metadata": {
        "id": "qIr-9QOe1oZM",
        "outputId": "98f935eb-a572-4c02-df75-f279a55403c2",
        "colab": {
          "base_uri": "https://localhost:8080/"
        }
      },
      "execution_count": 62,
      "outputs": [
        {
          "output_type": "stream",
          "name": "stdout",
          "text": [
            "(10, 20, 30)\n"
          ]
        }
      ]
    },
    {
      "cell_type": "code",
      "source": [
        "#19.Write a code to access the first element of the tuple('apple','banana','cherry')\n",
        "demo_tuple=('apple','banana','cherry')\n",
        "print(demo_tuple[0])"
      ],
      "metadata": {
        "id": "vvSqyHI21qeU",
        "outputId": "f8d365a6-6dd6-421b-aafc-61e9be30df29",
        "colab": {
          "base_uri": "https://localhost:8080/"
        }
      },
      "execution_count": 63,
      "outputs": [
        {
          "output_type": "stream",
          "name": "stdout",
          "text": [
            "apple\n"
          ]
        }
      ]
    },
    {
      "cell_type": "code",
      "source": [
        "#20.Write a codde to count how many times the number 2 appears in the tuple(1,2,3,2,4,2)\n",
        "demo_tuple=(1,2,3,2,4,2)\n",
        "print(demo_tuple.count(2))"
      ],
      "metadata": {
        "id": "2VGMR4cC1sUZ",
        "outputId": "86ff8817-5beb-47d2-ae09-56db2050451c",
        "colab": {
          "base_uri": "https://localhost:8080/"
        }
      },
      "execution_count": 64,
      "outputs": [
        {
          "output_type": "stream",
          "name": "stdout",
          "text": [
            "3\n"
          ]
        }
      ]
    },
    {
      "cell_type": "code",
      "source": [
        "#21.Write a code to find the index of the element 'cat' in the tuple('dog','cat,'rabbit')\n",
        "demo_tuple=('dog','cat','rabbit')\n",
        "print(demo_tuple.index('cat'))"
      ],
      "metadata": {
        "id": "2pZze7bM1ugo",
        "outputId": "57ddd59f-7ca5-42e0-8807-be8d1fff9eeb",
        "colab": {
          "base_uri": "https://localhost:8080/"
        }
      },
      "execution_count": 65,
      "outputs": [
        {
          "output_type": "stream",
          "name": "stdout",
          "text": [
            "1\n"
          ]
        }
      ]
    },
    {
      "cell_type": "code",
      "source": [
        "#22.Write a code to check if the element 'banana' is in the tuple('apple','orange','banana')\n",
        "demo_tuple=('apple','orange','banana')\n",
        "'banana' in demo_tuple"
      ],
      "metadata": {
        "id": "G2RvmEXt1wWl",
        "outputId": "fa5e44a8-dfb6-4355-d962-7586c65646d9",
        "colab": {
          "base_uri": "https://localhost:8080/"
        }
      },
      "execution_count": 66,
      "outputs": [
        {
          "output_type": "execute_result",
          "data": {
            "text/plain": [
              "True"
            ]
          },
          "metadata": {},
          "execution_count": 66
        }
      ]
    },
    {
      "cell_type": "code",
      "source": [
        "#23.Write a code to create a set with the elements 1,2,3,4,5 and print it\n",
        "demo_set={1,2,3,4,5}\n",
        "print(demo_set)"
      ],
      "metadata": {
        "id": "S0XyqgCW1yIN",
        "outputId": "5632c36f-e14c-49c1-9615-6ab23795cdf5",
        "colab": {
          "base_uri": "https://localhost:8080/"
        }
      },
      "execution_count": 68,
      "outputs": [
        {
          "output_type": "stream",
          "name": "stdout",
          "text": [
            "{1, 2, 3, 4, 5}\n"
          ]
        }
      ]
    },
    {
      "cell_type": "code",
      "source": [
        "#24.Write a code to add the element 6 to the set{1,2,3,4}\n",
        "demo_set={1,2,3,4}\n",
        "demo_set.add(6)\n",
        "print(demo_set)"
      ],
      "metadata": {
        "id": "-djRRU5t11e0",
        "outputId": "350a7e32-5656-4440-a105-ef58431b17a9",
        "colab": {
          "base_uri": "https://localhost:8080/"
        }
      },
      "execution_count": 69,
      "outputs": [
        {
          "output_type": "stream",
          "name": "stdout",
          "text": [
            "{1, 2, 3, 4, 6}\n"
          ]
        }
      ]
    }
  ],
  "metadata": {
    "colab": {
      "name": "Welcome to Colaboratory",
      "toc_visible": true,
      "provenance": []
    },
    "kernelspec": {
      "display_name": "Python 3",
      "name": "python3"
    }
  },
  "nbformat": 4,
  "nbformat_minor": 0
}